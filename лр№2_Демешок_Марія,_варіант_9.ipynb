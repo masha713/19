{
  "nbformat": 4,
  "nbformat_minor": 0,
  "metadata": {
    "colab": {
      "provenance": [],
      "include_colab_link": true
    },
    "kernelspec": {
      "name": "python3",
      "display_name": "Python 3"
    },
    "language_info": {
      "name": "python"
    }
  },
  "cells": [
    {
      "cell_type": "markdown",
      "metadata": {
        "id": "view-in-github",
        "colab_type": "text"
      },
      "source": [
        "<a href=\"https://colab.research.google.com/github/masha713/19/blob/master/%D0%BB%D1%80%E2%84%962_%D0%94%D0%B5%D0%BC%D0%B5%D1%88%D0%BE%D0%BA_%D0%9C%D0%B0%D1%80%D1%96%D1%8F%2C_%D0%B2%D0%B0%D1%80%D1%96%D0%B0%D0%BD%D1%82_9.ipynb\" target=\"_parent\"><img src=\"https://colab.research.google.com/assets/colab-badge.svg\" alt=\"Open In Colab\"/></a>"
      ]
    },
    {
      "cell_type": "markdown",
      "source": [
        "1. Метод ділення навпіл."
      ],
      "metadata": {
        "id": "VgrW9zRY0dVt"
      }
    },
    {
      "cell_type": "code",
      "execution_count": null,
      "metadata": {
        "colab": {
          "base_uri": "https://localhost:8080/"
        },
        "id": "iOTNXySVyeHy",
        "outputId": "5174695b-1ff2-41fa-a5c1-3de136fa53d3"
      },
      "outputs": [
        {
          "output_type": "stream",
          "name": "stdout",
          "text": [
            "Результати обчислень\n",
            "\n",
            "          a      F(a)         c      F(c)       b      F(b)\n",
            "0 -3.000000  0.977954 -2.000000  1.135204 -1.0000 -0.454649\n",
            "1 -2.000000  1.135204 -1.500000 -0.123480 -1.0000 -0.454649\n",
            "2 -2.000000  1.135204 -1.750000  0.405593 -1.5000 -0.123480\n",
            "3 -1.750000  0.405593 -1.625000  0.109040 -1.5000 -0.123480\n",
            "4 -1.625000  0.109040 -1.562500 -0.015587 -1.5000 -0.123480\n",
            "5 -1.625000  0.109040 -1.593750  0.044659 -1.5625 -0.015587\n",
            "6 -1.593750  0.044659 -1.578125  0.014015 -1.5625 -0.015587\n",
            "7 -1.578125  0.014015 -1.570312 -0.000917 -1.5625 -0.015587\n",
            "\n",
            "В точці с =  -1.5703125 , f(c) =  -0.0009171268569415665\n"
          ]
        }
      ],
      "source": [
        "import numpy as np\n",
        "import pandas as pd\n",
        "\n",
        "# Визначаємо функцію\n",
        "def f (x):\n",
        "    y = np.cos(x)*np.sin(x)*(x**2+x+1)\n",
        "    return y\n",
        "# Визначаємо границі відрізку\n",
        "a = -3\n",
        "b = -1\n",
        "# Визначаємо точність розв'язку\n",
        "h = 0.001\n",
        "# Поділяємо відрізок навпіл\n",
        "c = (a+b)/2\n",
        "# Зберігаємо результати обчислень\n",
        "data_A = [a]\n",
        "data_B = [b]\n",
        "data_C = [c]\n",
        "data_F_A = [f(a)]\n",
        "data_F_B = [f(b)]\n",
        "data_F_C = [f(c)]\n",
        "# Перевіряємо досягнення точності\n",
        "while abs(f(c)) > h:\n",
        "    # Звужуємо відрізок\n",
        "    if np.sign(f(c)) == np.sign(f(a)):\n",
        "        a = c\n",
        "    else:\n",
        "        b = c\n",
        "    # Поділяємо відрізок навпіл\n",
        "    c = (a+b)/2\n",
        "    # Зберігаємо результати обчислень\n",
        "    data_A.append(a)\n",
        "    data_B.append(b)\n",
        "    data_C.append(c)\n",
        "    data_F_A.append(f(a))\n",
        "    data_F_B.append(f(b))\n",
        "    data_F_C.append(f(c))\n",
        "# Відображаємо результати обчислень\n",
        "print('Результати обчислень')\n",
        "print()\n",
        "data = pd.DataFrame({'a': data_A,\n",
        "                     'F(a)': data_F_A,\n",
        "                     'c': data_C,\n",
        "                     'F(c)': data_F_C,\n",
        "                     'b': data_B,\n",
        "                     'F(b)': data_F_B})\n",
        "print(data)\n",
        "# Відображаємо наближений корінь рівняння\n",
        "print()\n",
        "print('В точці с = ', c, ', f(c) = ', f(c))"
      ]
    },
    {
      "cell_type": "markdown",
      "source": [
        "2. Метод ділення навпіл"
      ],
      "metadata": {
        "id": "5hYa7ucn0PEN"
      }
    },
    {
      "cell_type": "code",
      "source": [
        "import numpy as np\n",
        "import scipy.optimize as sp\n",
        "\n",
        "def f(x):\n",
        "    y = np.cos(x)*np.sin(x)*(x**2+x+1)\n",
        "    return y\n",
        "\n",
        "a, b = -3, -1\n",
        "tol = 1.e-3\n",
        "\n",
        "x = sp.bisect(f, a, b,(),tol) #функція для метода\n",
        "\n",
        "print('The approximate solution x is:', x)\n",
        "print('And the value f(x) is:', f(x))"
      ],
      "metadata": {
        "colab": {
          "base_uri": "https://localhost:8080/"
        },
        "id": "ML3KEw5q0H1e",
        "outputId": "99314d3a-c13e-420e-e9ae-6c063defd529"
      },
      "execution_count": null,
      "outputs": [
        {
          "output_type": "stream",
          "name": "stdout",
          "text": [
            "The approximate solution x is: -1.5712890625\n",
            "And the value f(x) is: 0.0009350448126615916\n"
          ]
        }
      ]
    },
    {
      "cell_type": "markdown",
      "source": [
        "3. Метод хорд"
      ],
      "metadata": {
        "id": "sYf0IvR41ufd"
      }
    },
    {
      "cell_type": "code",
      "source": [
        "import numpy as np\n",
        "import pandas as pd\n",
        "# Визначаємо функцію\n",
        "def f(x):\n",
        "    y = np.cos(x)*np.sin(x)*(x**2+x+1)\n",
        "    return y\n",
        "# Визначаємо межі відрізку\n",
        "a = -3\n",
        "b = -1\n",
        "# Визначаємо точність розв'язку\n",
        "h = 0.001\n",
        "# Точка, де хорда перетинає вісь 0x\n",
        "c = (f(a)*b-a*f(b))/(f(a)-f(b))\n",
        "\n",
        "# Зберігаємо результати обчислень\n",
        "data_A = [a]\n",
        "data_B = [b]\n",
        "data_C = [c]\n",
        "data_F_A = [f(a)]\n",
        "data_F_B = [f(b)]\n",
        "data_F_C = [f(c)]\n",
        "# Перевіряємо досягнення точності\n",
        "while abs(f(c)) > h:\n",
        "    # Звужуємо відрізок\n",
        "    if np.sign(f(c)) == np.sign(f(a)):\n",
        "        a = c\n",
        "    else:\n",
        "        b = c\n",
        "    # Точка, де хорда перетинає вісь 0x\n",
        "    c = (f(a)*b-a*f(b))/(f(a)-f(b))\n",
        "    # Зберігаємо результати обчислень\n",
        "    data_A.append(a)\n",
        "    data_B.append(b)\n",
        "    data_C.append(c)\n",
        "    data_F_A.append(f(a))\n",
        "    data_F_B.append(f(b))\n",
        "    data_F_C.append(f(c))\n",
        "# Відображаємо результати обчислень\n",
        "print('Результати обчислень')\n",
        "print()\n",
        "data = pd.DataFrame({'a': data_A, 'F(a)': data_F_A,\n",
        "                     'c': data_C, 'F(c)': data_F_C,\n",
        "                     'b': data_B, 'F(b)': data_F_B})\n",
        "print(data)\n",
        "# Відображаємо наближений корінь рівняння\n",
        "print()\n",
        "print('В точці с = ', c, ', f(c) = ', f(c))"
      ],
      "metadata": {
        "colab": {
          "base_uri": "https://localhost:8080/"
        },
        "id": "3p6i5xHK1y3l",
        "outputId": "7642f969-458d-4480-bc67-7bee8734b6d1"
      },
      "execution_count": 10,
      "outputs": [
        {
          "output_type": "stream",
          "name": "stdout",
          "text": [
            "Результати обчислень\n",
            "\n",
            "          a      F(a)         c      F(c)         b      F(b)\n",
            "0 -3.000000  0.977954 -1.634717  0.129889 -1.000000 -0.454649\n",
            "1 -1.634717  0.129889 -1.493678 -0.133455 -1.000000 -0.454649\n",
            "2 -1.634717  0.129889 -1.565152 -0.010636 -1.493678 -0.133455\n",
            "3 -1.634717  0.129889 -1.570418 -0.000718 -1.565152 -0.010636\n",
            "\n",
            "В точці с =  -1.5704175737258015 , f(c) =  -0.0007180376446871882\n"
          ]
        }
      ]
    },
    {
      "cell_type": "markdown",
      "source": [
        "4. Метод Ньютона (дотичних)"
      ],
      "metadata": {
        "id": "40blPBSK2Cdm"
      }
    },
    {
      "cell_type": "code",
      "source": [
        "import numpy as np\n",
        "import pandas as pd\n",
        "# Визначаємо функцію\n",
        "def f(x):\n",
        "    y = np.cos(x)*np.sin(x)*(x**2+x+1)\n",
        "    return y\n",
        "# Визначаємо першу похідну\n",
        "def df(x):\n",
        "    y1 = -(x**2+x+1)*(np.sin(x))**2\n",
        "    y2 = (x**2+x+1)*(np.cos(x))**2\n",
        "    y3 = (2*x+1)*np.sin(x)*np.cos(x)\n",
        "    y = y1+y2+y3\n",
        "    return y\n",
        "# Визначаємо початкову точку\n",
        "c = -1.4\n",
        "# Визначаємо точність розв'язку\n",
        "h = 0.001\n",
        "# Зберігаємо результати обчислень\n",
        "data_C = [c]\n",
        "data_F_C = [f(c)]\n",
        "# Перевіряємо досягнення точності\n",
        "while abs(f(c)) > h:\n",
        "    # Точка, де дотична перетинає вісь 0x\n",
        "    c -= f(c)/df(c)\n",
        "    # Зберігаємо результати обчислень\n",
        "    data_C.append(c)\n",
        "    data_F_C.append(f(c))\n",
        "# Відображаємо результати обчислень\n",
        "print('Результати обчислень')\n",
        "print()\n",
        "data = pd.DataFrame({'c': data_C, 'F(c)': data_F_C})\n",
        "print(data)\n",
        "# Відображаємо наближений корінь рівняння\n",
        "print()\n",
        "print('В точці с = ', c, ', f(c) = ', f(c))"
      ],
      "metadata": {
        "colab": {
          "base_uri": "https://localhost:8080/"
        },
        "id": "WeGQjbjW2HDz",
        "outputId": "7fd55bf4-4d4c-43ea-ce09-3fbf365aa5c5"
      },
      "execution_count": null,
      "outputs": [
        {
          "output_type": "stream",
          "name": "stdout",
          "text": [
            "Результати обчислень\n",
            "\n",
            "          c      F(c)\n",
            "0 -1.400000 -0.261291\n",
            "1 -1.623636  0.106144\n",
            "2 -1.573564  0.005266\n",
            "3 -1.570805  0.000016\n",
            "\n",
            "В точці с =  -1.5708049170979717 , f(c) =  1.6292567852764437e-05\n"
          ]
        }
      ]
    },
    {
      "cell_type": "markdown",
      "source": [
        "5. Метод Ньютона (дотичних)"
      ],
      "metadata": {
        "id": "qjI38bTp0xCo"
      }
    },
    {
      "cell_type": "code",
      "source": [
        "import numpy as np\n",
        "import scipy.optimize as sp\n",
        "\n",
        "def f(x):\n",
        "    y = np.cos(x)*np.sin(x)*(x**2+x+1)\n",
        "    return y\n",
        "\n",
        "def df(x):# Обчислення похідної\n",
        "    y1 = -(x**2+x+1)*(np.sin(x))**2\n",
        "    y2 = (x**2+x+1)*(np.cos(x))**2\n",
        "    y3 = (2*x+1)*np.sin(x)*np.cos(x)\n",
        "    y = y1+y2+y3\n",
        "    return y\n",
        "\n",
        "x0 = -1.4\n",
        "x1 = 1.4\n",
        "\n",
        "x_0 = sp.newton(f, x0, df, tol=1.e-3, maxiter=50)\n",
        "x_1 = sp.newton(f, x1, df, tol=1.e-3, maxiter=50)\n",
        "\n",
        "print('The approximate solution x is:', x_0)\n",
        "print('And the value f(x_0) is:', f(x_0))\n",
        "\n",
        "print('The approximate solution x is:', x_1)\n",
        "print('And the value f(x_0) is:', f(x_1))"
      ],
      "metadata": {
        "colab": {
          "base_uri": "https://localhost:8080/"
        },
        "id": "AonZxq_H0m6-",
        "outputId": "7acab5b7-6894-4cb1-b0d3-217d498bae02"
      },
      "execution_count": null,
      "outputs": [
        {
          "output_type": "stream",
          "name": "stdout",
          "text": [
            "The approximate solution x is: -1.5707963268782201\n",
            "And the value f(x_0) is: 1.5803176499052036e-10\n",
            "The approximate solution x is: 1.5707963267958693\n",
            "And the value f(x_0) is: -4.9007361645997675e-12\n"
          ]
        }
      ]
    },
    {
      "cell_type": "markdown",
      "source": [
        " # Знаходження коренів рівняння за допомогою бібліотеки SymPy"
      ],
      "metadata": {
        "id": "pvK9N9TH1QD-"
      }
    },
    {
      "cell_type": "code",
      "source": [
        "import sympy as sym\n",
        "\n",
        "x = sym.Symbol('x')\n",
        "\n",
        "y = sym.cos(x)*sym.sin(x)*(x**2+x+1)\n",
        "\n",
        "s = sym.solve(y)\n",
        "\n",
        "print(s)"
      ],
      "metadata": {
        "colab": {
          "base_uri": "https://localhost:8080/"
        },
        "id": "PuAp1WCr08qt",
        "outputId": "36c578b1-b0b4-40d5-8142-44bf252e747d"
      },
      "execution_count": null,
      "outputs": [
        {
          "output_type": "stream",
          "name": "stdout",
          "text": [
            "[0, pi/2, pi, 3*pi/2, -1/2 - sqrt(3)*I/2, -1/2 + sqrt(3)*I/2]\n"
          ]
        }
      ]
    },
    {
      "cell_type": "code",
      "source": [
        "import sympy as sym\n",
        "\n",
        "x, a, b, c = sym.symbols('x, a, b, c')\n",
        "\n",
        "y = a * x**2 + b * x + c\n",
        "\n",
        "s = sym.solve(y, x)\n",
        "\n",
        "print(s)"
      ],
      "metadata": {
        "colab": {
          "base_uri": "https://localhost:8080/"
        },
        "id": "Y0d-uHtp1c7r",
        "outputId": "42a681c2-3c44-4db2-dbe7-7c1615e9bbe9"
      },
      "execution_count": null,
      "outputs": [
        {
          "output_type": "stream",
          "name": "stdout",
          "text": [
            "[(-b - sqrt(-4*a*c + b**2))/(2*a), (-b + sqrt(-4*a*c + b**2))/(2*a)]\n"
          ]
        }
      ]
    },
    {
      "cell_type": "markdown",
      "source": [],
      "metadata": {
        "id": "mk1oBvYj1GC2"
      }
    },
    {
      "cell_type": "code",
      "source": [
        "!pip install numdifftools"
      ],
      "metadata": {
        "colab": {
          "base_uri": "https://localhost:8080/"
        },
        "id": "yiLJNuM3Cq0-",
        "outputId": "a2583cc8-4b3a-4547-94cb-a359af3ebad9"
      },
      "execution_count": 1,
      "outputs": [
        {
          "output_type": "stream",
          "name": "stdout",
          "text": [
            "Collecting numdifftools\n",
            "  Downloading numdifftools-0.9.41-py2.py3-none-any.whl.metadata (39 kB)\n",
            "Requirement already satisfied: numpy>=1.9 in /usr/local/lib/python3.12/dist-packages (from numdifftools) (2.0.2)\n",
            "Requirement already satisfied: scipy>=0.8 in /usr/local/lib/python3.12/dist-packages (from numdifftools) (1.16.1)\n",
            "Downloading numdifftools-0.9.41-py2.py3-none-any.whl (100 kB)\n",
            "\u001b[2K   \u001b[90m━━━━━━━━━━━━━━━━━━━━━━━━━━━━━━━━━━━━━━━━\u001b[0m \u001b[32m100.2/100.2 kB\u001b[0m \u001b[31m5.4 MB/s\u001b[0m eta \u001b[36m0:00:00\u001b[0m\n",
            "\u001b[?25hInstalling collected packages: numdifftools\n",
            "Successfully installed numdifftools-0.9.41\n"
          ]
        }
      ]
    },
    {
      "cell_type": "code",
      "source": [
        "#Лабораторна робота 2\n",
        "#Відокремлення коренів\n",
        "import numpy as np\n",
        "import numdifftools as nd\n",
        "\n",
        "def f(x):\n",
        "    return 6*x**4+4*x**3-x**2-x-10\n",
        "\n",
        "\n",
        "def find_segments(): #відокремлюємо корені\n",
        "    search_range = np.arange(-10, 5, 1)\n",
        "\n",
        "    a = None\n",
        "    previous_x = None\n",
        "    current_x  = None\n",
        "    segments = []\n",
        "\n",
        "    for x in search_range:\n",
        "        x = round(x, 4)\n",
        "        current_x = f(x)\n",
        "        if previous_x != None and previous_x * current_x < 0:\n",
        "            segments.append((a, x))\n",
        "        a = x\n",
        "        previous_x = current_x\n",
        "    return segments\n",
        "\n",
        "segments = find_segments()\n",
        "for a, b in segments:\n",
        "    print(f'Found segment:  [{a}, {b}]')\n"
      ],
      "metadata": {
        "colab": {
          "base_uri": "https://localhost:8080/"
        },
        "id": "L-9dn4npCso-",
        "outputId": "6d8700f2-9ea3-4c0b-c077-bbdc968a749c"
      },
      "execution_count": 3,
      "outputs": [
        {
          "output_type": "stream",
          "name": "stdout",
          "text": [
            "Found segment:  [-2, -1]\n",
            "Found segment:  [1, 2]\n"
          ]
        }
      ]
    },
    {
      "cell_type": "markdown",
      "source": [
        "![image.png](data:image/png;base64,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)"
      ],
      "metadata": {
        "id": "eb9uwLLsZg_X"
      }
    },
    {
      "cell_type": "code",
      "source": [
        "import numpy as np\n",
        "import matplotlib.pyplot as plt\n",
        "\n",
        "# Визначення функції\n",
        "def f(x):\n",
        "    return 6*x**4+4*x**3-x**2-x-10\n",
        "\n",
        "# Генерація значень x\n",
        "x = np.linspace(-2, 2, 100)\n",
        "\n",
        "# Генерація значень y\n",
        "y = f(x)\n",
        "\n",
        "# Побудова графіка\n",
        "plt.figure(figsize=(8, 6))\n",
        "plt.plot(x, y, label='6*x**4+4*x**3-x**2-x-10', color='blue')\n",
        "plt.title('Графік функції 6*x**4+4*x**3-x**2-x-10')\n",
        "plt.xlabel('x')\n",
        "plt.ylabel('f(x)')\n",
        "\n",
        "# Додавання осей з стрілками\n",
        "plt.axhline(0, color='black', linewidth=0.5)\n",
        "plt.axvline(0, color='black', linewidth=0.5)\n",
        "\n",
        "plt.text(2.05, -4, 'x', ha='center', va='center')\n",
        "plt.text(-0.3, 190, 'y', ha='center', va='center')\n",
        "\n",
        "plt.grid(True)\n",
        "plt.legend()\n",
        "plt.show()\n"
      ],
      "metadata": {
        "colab": {
          "base_uri": "https://localhost:8080/",
          "height": 796
        },
        "id": "7zUI3d1xZXar",
        "outputId": "fb6c3559-13f8-4665-c101-c6586fc58beb"
      },
      "execution_count": 5,
      "outputs": [
        {
          "output_type": "display_data",
          "data": {
            "text/plain": [
              "<Figure size 800x600 with 1 Axes>"
            ],
            "image/png": "[encoded data removed]"
          },
          "metadata": {}
        }
      ]
    },
    {
      "cell_type": "code",
      "source": [
        "#Лабораторна робота. Метод половинного ділення, хорд\n",
        "\n",
        "\n",
        "def rec(a, b, eps):  # метод половинного ділення\n",
        "    while (abs(a - b) > eps):\n",
        "        if f(a) * f((a + b) / 2) < 0:\n",
        "            b = (a + b) / 2\n",
        "        else:\n",
        "            a = (a + b) / 2\n",
        "        x = (a + b) / 2\n",
        "\n",
        "    print('x= ', round(x, 5), '  -   Half division method')\n"
      ],
      "metadata": {
        "id": "BgjK94O9Cfxe"
      },
      "execution_count": 12,
      "outputs": []
    },
    {
      "cell_type": "code",
      "source": [
        "def hord(a, b, eps):  # метод хорд\n",
        "    derivative_f = nd.Derivative(f, n=1)\n",
        "    if f(a) * derivative_f(a) > 0:\n",
        "        x0 = a\n",
        "        xi = b\n",
        "    else:\n",
        "        x0 = b\n",
        "        xi = a\n",
        "    xi_1 = xi - (xi - x0) * f(xi) / (f(xi) - f(x0))\n",
        "    while (abs(xi_1 - xi) > eps):\n",
        "        xi = xi_1\n",
        "        xi_1 = xi - (xi - x0) * f(xi) / (f(xi) - f(x0))\n",
        "    print('x= ', round(xi_1, 5), '  -   Chord method')\n"
      ],
      "metadata": {
        "id": "Sz_KWVf7D2tL"
      },
      "execution_count": 13,
      "outputs": []
    },
    {
      "cell_type": "code",
      "source": [
        "if __name__ == \"__main__\":\n",
        "    a1, b1 = -3, 2\n",
        "    a2, b2 = -1, 5\n",
        "    eps = 0.001\n",
        "    print(\"Розв'язки на відрізку [-3,1]\")\n",
        "    rec(a1, b1, eps)\n",
        "    hord(a1, b1, eps)\n",
        "    print(\"\\n Розв'язки на відрізку [1,2]\")\n",
        "    rec(a2, b2, eps)\n",
        "    hord(a2, b2, eps)"
      ],
      "metadata": {
        "id": "upx7R4yoFZj_",
        "outputId": "d84c99e3-dda0-4948-d3e9-784a8b2c7275",
        "colab": {
          "base_uri": "https://localhost:8080/"
        }
      },
      "execution_count": 14,
      "outputs": [
        {
          "output_type": "stream",
          "name": "stdout",
          "text": [
            "Розв'язки на відрізку [-3,1]\n",
            "x=  -1.57086   -   Half division method\n",
            "x=  -1.57088   -   Chord method\n",
            "\n",
            " Розв'язки на відрізку [1,2]\n",
            "x=  3.14148   -   Half division method\n",
            "x=  -1.57109   -   Chord method\n"
          ]
        }
      ]
    },
    {
      "cell_type": "code",
      "source": [
        "#Лабораторна робота 3. Метод Ньютона (дотичних). Комбінований метод\n",
        "\n",
        "def nuton(a, b, eps, f):\n",
        "    df2 = nd.Derivative(f, n=2)(b)  # Отримуємо значення похідної другого порядку в точці b\n",
        "    if f(b) * df2 > 0:\n",
        "        xi = b\n",
        "    else:\n",
        "        xi = a\n",
        "    df = nd.Derivative(f, n=1)(xi)  # Отримуємо значення похідної першого порядку в точці xi\n",
        "    xi_1 = xi - f(xi) / df\n",
        "    while abs(xi_1 - xi) > eps:  # перевіряємо точність\n",
        "        xi = xi_1\n",
        "        xi_1 = xi - f(xi) / df\n",
        "    print('Метод Ньютона, x = ', xi_1.round(4))\n"
      ],
      "metadata": {
        "id": "uz6OF8g2C-vY"
      },
      "execution_count": null,
      "outputs": []
    },
    {
      "cell_type": "code",
      "source": [
        "def komb(a, b, eps, f):\n",
        "    df2 = nd.Derivative(f, n=2)(a)\n",
        "    if f(a) * df2 > 0:\n",
        "        a0 = a\n",
        "        b0 = b\n",
        "    else:\n",
        "        a0 = b\n",
        "        b0 = a\n",
        "    ai = a0\n",
        "    bi = b0\n",
        "    while abs(ai - bi) > eps:\n",
        "        ai_1 = ai - f(ai) * (bi - ai) / (f(bi) - f(ai))\n",
        "        bi_1 = bi - f(bi) / nd.Derivative(f, n=1)(bi)\n",
        "        ai = ai_1\n",
        "        bi = bi_1\n",
        "    x = (ai_1 + bi_1) / 2\n",
        "\n",
        "    print('Комбінований метод, x = ', x.round(4))\n"
      ],
      "metadata": {
        "id": "M2T4FA4ifyy_"
      },
      "execution_count": null,
      "outputs": []
    },
    {
      "cell_type": "code",
      "source": [
        "if __name__ == \"__main__\":\n",
        "    a1, b1 = -2, -1\n",
        "    a2, b2 = 0, 1\n",
        "    eps = 0.001\n",
        "\n",
        "    print(\"Розв'язання на відрізку [-2, -1]\")\n",
        "    nuton(a1, b1, eps, f)\n",
        "    komb(a1, b1, eps, f)\n",
        "    print(\"\\n Розв'язання на відрізку [0, 1]\")\n",
        "    nuton(a2, b2, eps, f)\n",
        "    komb(a2, b2, eps, f)"
      ],
      "metadata": {
        "colab": {
          "base_uri": "https://localhost:8080/"
        },
        "id": "zrxTpvysf0zN",
        "outputId": "0e1afa74-0294-41c2-a7bc-28169da1aafc"
      },
      "execution_count": null,
      "outputs": [
        {
          "output_type": "stream",
          "name": "stdout",
          "text": [
            "Розв'язання на відрізку [-2, -1]\n",
            "Метод Ньютона, x =  -1.3479\n",
            "Комбінований метод, x =  -1.3447\n",
            "\n",
            " Розв'язання на відрізку [0, 1]\n",
            "Метод Ньютона, x =  0.7915\n",
            "Комбінований метод, x =  0.7909\n"
          ]
        }
      ]
    }
  ]
}